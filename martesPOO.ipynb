{
  "nbformat": 4,
  "nbformat_minor": 0,
  "metadata": {
    "colab": {
      "provenance": [],
      "authorship_tag": "ABX9TyPJ2BYBIs2fh+r+pG8ORJ0+",
      "include_colab_link": true
    },
    "kernelspec": {
      "name": "python3",
      "display_name": "Python 3"
    },
    "language_info": {
      "name": "python"
    }
  },
  "cells": [
    {
      "cell_type": "markdown",
      "metadata": {
        "id": "view-in-github",
        "colab_type": "text"
      },
      "source": [
        "<a href=\"https://colab.research.google.com/github/AlanIsrael1711/martesPOO/blob/main/martesPOO.ipynb\" target=\"_parent\"><img src=\"https://colab.research.google.com/assets/colab-badge.svg\" alt=\"Open In Colab\"/></a>"
      ]
    },
    {
      "cell_type": "code",
      "source": [
        "alumno = {'numero_cuenta': 1223334444, 'carrera':'ICO',\n",
        "          'direccion' : {'calle' : 'rancho seco', 'numero' : 23}\n",
        "\n",
        "          }\n"
      ],
      "metadata": {
        "id": "V6PqGmghKqXO"
      },
      "execution_count": 2,
      "outputs": []
    },
    {
      "cell_type": "code",
      "source": [
        "print (alumno['direccion']['calle'][3:6:1])\n",
        "print(alumno)"
      ],
      "metadata": {
        "colab": {
          "base_uri": "https://localhost:8080/"
        },
        "id": "MNdbEWi09e8l",
        "outputId": "e04b5016-c298-4052-8bc5-d0bd9f42e808"
      },
      "execution_count": 3,
      "outputs": [
        {
          "output_type": "stream",
          "name": "stdout",
          "text": [
            "cho\n"
          ]
        }
      ]
    },
    {
      "cell_type": "code",
      "source": [
        "#if\n",
        "edad = 20\n",
        "if edad >= 18:\n",
        "    print(\"Eres mayor de edad.\")\n",
        "    print()"
      ],
      "metadata": {
        "colab": {
          "base_uri": "https://localhost:8080/"
        },
        "id": "cs2PIJoT--fx",
        "outputId": "1de28e6b-1cb8-41aa-8fd3-ae71a4970863"
      },
      "execution_count": 4,
      "outputs": [
        {
          "output_type": "stream",
          "name": "stdout",
          "text": [
            "Eres mayor de edad.\n"
          ]
        }
      ]
    },
    {
      "cell_type": "code",
      "source": [
        "#if\n",
        "edad = 20\n",
        "if edad >= 18:\n",
        "    print(\"Eres mayor de edad.\")\n",
        "else:\n",
        "      print(\"Eres menor de edad\")"
      ],
      "metadata": {
        "colab": {
          "base_uri": "https://localhost:8080/"
        },
        "id": "AIdJwhDN_I3W",
        "outputId": "47b5c973-eb1f-42b2-f0bc-20e97c25fb43"
      },
      "execution_count": 10,
      "outputs": [
        {
          "output_type": "stream",
          "name": "stdout",
          "text": [
            "Eres mayor de edad.\n"
          ]
        }
      ]
    },
    {
      "cell_type": "code",
      "source": [
        "# if- elif - else\n",
        "edad = 20\n",
        "if edad < 13:\n",
        "    print(\"Eres un niño.\")\n",
        "elif edad < 18:\n",
        "    print(\"Eres un adolescente.\")\n",
        "else:\n",
        "    print(\"Eres un adulto.\")"
      ],
      "metadata": {
        "colab": {
          "base_uri": "https://localhost:8080/"
        },
        "id": "ysPakWIk_6K9",
        "outputId": "8b094126-09e2-401b-faaf-117e27e067ce"
      },
      "execution_count": 11,
      "outputs": [
        {
          "output_type": "stream",
          "name": "stdout",
          "text": [
            "Eres un adulto.\n"
          ]
        }
      ]
    },
    {
      "cell_type": "code",
      "source": [
        "# if-elif-elif\n",
        "edad = 19\n",
        "if edad < 13:\n",
        "    print(\"Eres un niño.\")\n",
        "elif edad < 18:\n",
        "    print(\"Eres un adolescente.\")\n",
        "elif edad < 30:\n",
        "    print(\"Eres un joven adulto.\")"
      ],
      "metadata": {
        "colab": {
          "base_uri": "https://localhost:8080/"
        },
        "id": "RvBNcuS8AVnZ",
        "outputId": "2f8d4ccd-cb9a-4626-98cf-3bb74e686391"
      },
      "execution_count": 15,
      "outputs": [
        {
          "output_type": "stream",
          "name": "stdout",
          "text": [
            "Eres un joven adulto.\n"
          ]
        }
      ]
    },
    {
      "cell_type": "code",
      "source": [
        "# For   for(int = 1 ; i<10 ; i++)\n",
        "\n",
        "lim = 10\n",
        "for i in range(1, lim, 1):\n",
        "    print(i)\n",
        "\n",
        "print(range(1,5,1))\n",
        "\n"
      ],
      "metadata": {
        "colab": {
          "base_uri": "https://localhost:8080/"
        },
        "id": "hH9N6imWBZRS",
        "outputId": "62677546-f2f8-4119-c331-a630234494f9"
      },
      "execution_count": 1,
      "outputs": [
        {
          "output_type": "stream",
          "name": "stdout",
          "text": [
            "1\n",
            "2\n",
            "3\n",
            "4\n",
            "5\n",
            "6\n",
            "7\n",
            "8\n",
            "9\n",
            "range(1, 5)\n"
          ]
        }
      ]
    },
    {
      "cell_type": "code",
      "source": [
        "frutas = ['piña', 'pera', 'manzana', 'fresa', 'aguacate']\n",
        "for numero in frutas:\n",
        "    print(numero)\n",
        "\n",
        "print(\"-------------\")\n",
        "\n",
        "# For   for(int = 1 ; i<10 ; i++)\n",
        "\n",
        "for numero in frutas:\n",
        "    if numero == \"manzana\":\n",
        "        break   # ó continue\n",
        "    print(numero)  # imprime la fruta\n",
        "print(\"fin\")"
      ],
      "metadata": {
        "colab": {
          "base_uri": "https://localhost:8080/"
        },
        "id": "Dzzis7lmCXGU",
        "outputId": "8edd6d18-da75-4c4e-8d23-1fa35cfd478b"
      },
      "execution_count": 4,
      "outputs": [
        {
          "output_type": "stream",
          "name": "stdout",
          "text": [
            "piña\n",
            "pera\n",
            "manzana\n",
            "fresa\n",
            "aguacate\n",
            "-------------\n",
            "piña\n",
            "pera\n",
            "fin\n"
          ]
        }
      ]
    },
    {
      "cell_type": "code",
      "source": [
        "tam = 0\n",
        "\n",
        "while tam <10:\n",
        "  print(tam)\n",
        "  tam = int(input(\"DAME UN NUMERO ENTERO:\"))\n",
        "print (\"final\")\n"
      ],
      "metadata": {
        "colab": {
          "base_uri": "https://localhost:8080/"
        },
        "id": "HrCGU9ukDfw7",
        "outputId": "473cb872-8106-4e34-f1de-55f5a3845752"
      },
      "execution_count": 5,
      "outputs": [
        {
          "output_type": "stream",
          "name": "stdout",
          "text": [
            "0\n",
            "DAME UN NUMERO ENTERO:2\n",
            "2\n",
            "DAME UN NUMERO ENTERO:9\n",
            "9\n",
            "DAME UN NUMERO ENTERO:11\n",
            "final\n"
          ]
        }
      ]
    },
    {
      "cell_type": "code",
      "source": [],
      "metadata": {
        "id": "lgqbd2uxELBG"
      },
      "execution_count": null,
      "outputs": []
    }
  ]
}